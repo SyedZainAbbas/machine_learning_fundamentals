{
 "cells": [
  {
   "cell_type": "code",
   "execution_count": 1,
   "id": "67eb90dd",
   "metadata": {},
   "outputs": [],
   "source": [
    "%matplotlib inline\n",
    "import sys\n",
    "import matplotlib.pyplot as plt \n",
    "import gzip, os\n",
    "import numpy as np\n",
    "from scipy.stats import multivariate_normal\n",
    "from sklearn import svm\n",
    "\n",
    "if sys.version_info[0] == 2:\n",
    "    from urllib import urlretrieve\n",
    "else:\n",
    "    from urllib.request import urlretrieve"
   ]
  },
  {
   "cell_type": "code",
   "execution_count": 2,
   "id": "919d94d9",
   "metadata": {},
   "outputs": [],
   "source": [
    "# Function that downloads a specified MNIST data file from Yann Le Cun's website\n",
    "def download(filename, source='https://ossci-datasets.s3.amazonaws.com/mnist/'):\n",
    "    print(\"Downloading %s\" % filename)\n",
    "    urlretrieve(source + filename, filename)\n",
    "\n",
    "# Invokes download() if necessary, then reads in images\n",
    "def load_mnist_images(filename):\n",
    "    if not os.path.exists(filename):\n",
    "        download(filename)\n",
    "    with gzip.open(filename, 'rb') as f:\n",
    "        data = np.frombuffer(f.read(), np.uint8, offset=16)\n",
    "    data = data.reshape(-1,784)\n",
    "    return data\n",
    "\n",
    "def load_mnist_labels(filename):\n",
    "    if not os.path.exists(filename):\n",
    "        download(filename)\n",
    "    with gzip.open(filename, 'rb') as f:\n",
    "        data = np.frombuffer(f.read(), np.uint8, offset=8)\n",
    "    return data"
   ]
  },
  {
   "cell_type": "code",
   "execution_count": 6,
   "id": "6244d9c5",
   "metadata": {},
   "outputs": [],
   "source": [
    "## Load the training set\n",
    "train_data = load_mnist_images('train-images-idx3-ubyte.gz')\n",
    "train_labels = load_mnist_labels('train-labels-idx1-ubyte.gz')\n",
    "\n",
    "## Load the testing set\n",
    "test_data = load_mnist_images('t10k-images-idx3-ubyte.gz')\n",
    "test_labels = load_mnist_labels('t10k-labels-idx1-ubyte.gz')"
   ]
  },
  {
   "cell_type": "code",
   "execution_count": 3,
   "id": "261af73e",
   "metadata": {},
   "outputs": [],
   "source": [
    "def fit_linear_svc(C_value=1.0):\n",
    "    \n",
    "    ## Fit SVM classifier on train data\n",
    "    clf = svm.LinearSVC(C=C_value, loss='hinge')\n",
    "    clf.fit(train_data,train_labels)\n",
    "    \n",
    "    ## Get predictions on training data\n",
    "    train_preds = clf.predict(train_data)\n",
    "    train_error = float(np.sum(train_preds != train_labels) / len(train_labels))\n",
    "    \n",
    "    ## Get predictions on test data\n",
    "    test_preds = clf.predict(test_data)\n",
    "    test_error = float(np.sum(test_preds != test_labels) / len(test_labels))\n",
    "    \n",
    "    return train_preds, test_preds, train_error, test_error"
   ]
  },
  {
   "cell_type": "code",
   "execution_count": null,
   "id": "143e2582",
   "metadata": {},
   "outputs": [
    {
     "name": "stderr",
     "output_type": "stream",
     "text": [
      "c:\\Users\\syedz\\.conda\\envs\\ML_DS\\lib\\site-packages\\sklearn\\svm\\_classes.py:32: FutureWarning: The default value of `dual` will change from `True` to `'auto'` in 1.5. Set the value of `dual` explicitly to suppress the warning.\n",
      "  warnings.warn(\n",
      "c:\\Users\\syedz\\.conda\\envs\\ML_DS\\lib\\site-packages\\sklearn\\svm\\_base.py:1242: ConvergenceWarning: Liblinear failed to converge, increase the number of iterations.\n",
      "  warnings.warn(\n",
      "c:\\Users\\syedz\\.conda\\envs\\ML_DS\\lib\\site-packages\\sklearn\\svm\\_base.py:1242: ConvergenceWarning: Liblinear failed to converge, increase the number of iterations.\n",
      "  warnings.warn(\n"
     ]
    },
    {
     "name": "stdout",
     "output_type": "stream",
     "text": [
      "Error rate for C = 0.01: train 0.141 test 0.146\n"
     ]
    },
    {
     "name": "stderr",
     "output_type": "stream",
     "text": [
      "c:\\Users\\syedz\\.conda\\envs\\ML_DS\\lib\\site-packages\\sklearn\\svm\\_classes.py:32: FutureWarning: The default value of `dual` will change from `True` to `'auto'` in 1.5. Set the value of `dual` explicitly to suppress the warning.\n",
      "  warnings.warn(\n"
     ]
    }
   ],
   "source": [
    "\n",
    "cvals = [0.01,0.1,1.0,10.0,100.0]\n",
    "\n",
    "for c in cvals:\n",
    "    train_preds, test_preds, train_error, test_error = fit_linear_svc(c)\n",
    "    print (\"Error rate for C = %0.2f: train %0.3f test %0.3f\" % (c, train_error, test_error))"
   ]
  },
  {
   "cell_type": "code",
   "execution_count": 4,
   "id": "9d52caf0",
   "metadata": {},
   "outputs": [],
   "source": [
    "def fit_svm_classifier(classifier):\n",
    "    \"\"\"\n",
    "    Generic function to fit any SVM classifier and evaluate performance\n",
    "    \n",
    "    Parameters:\n",
    "    - classifier: sklearn SVM classifier instance (LinearSVC, SVC, etc.)\n",
    "    \n",
    "    Returns:\n",
    "    - train_preds, test_preds, train_error, test_error\n",
    "    \"\"\"\n",
    "    ## Fit SVM classifier on train data\n",
    "    classifier.fit(train_data, train_labels)\n",
    "    \n",
    "    ## Get predictions on training data\n",
    "    train_preds = classifier.predict(train_data)\n",
    "    train_error = float(np.sum(train_preds != train_labels) / len(train_labels))\n",
    "    \n",
    "    ## Get predictions on test data\n",
    "    test_preds = classifier.predict(test_data)\n",
    "    test_error = float(np.sum(test_preds != test_labels) / len(test_labels))\n",
    "    \n",
    "    return train_preds, test_preds, train_error, test_error"
   ]
  },
  {
   "cell_type": "code",
   "execution_count": 7,
   "id": "58b489ca",
   "metadata": {},
   "outputs": [
    {
     "name": "stdout",
     "output_type": "stream",
     "text": [
      "MNIST SVM EXPERIMENTS\n",
      "============================================================\n",
      "\n",
      "1. LINEAR SVM WITH DIFFERENT C VALUES:\n",
      "----------------------------------------\n",
      "Testing Linear SVM with C = 0.01\n"
     ]
    },
    {
     "name": "stderr",
     "output_type": "stream",
     "text": [
      "c:\\Users\\syedz\\.conda\\envs\\ML_DS\\lib\\site-packages\\sklearn\\svm\\_classes.py:32: FutureWarning: The default value of `dual` will change from `True` to `'auto'` in 1.5. Set the value of `dual` explicitly to suppress the warning.\n",
      "  warnings.warn(\n",
      "c:\\Users\\syedz\\.conda\\envs\\ML_DS\\lib\\site-packages\\sklearn\\svm\\_base.py:1242: ConvergenceWarning: Liblinear failed to converge, increase the number of iterations.\n",
      "  warnings.warn(\n",
      "c:\\Users\\syedz\\.conda\\envs\\ML_DS\\lib\\site-packages\\sklearn\\svm\\_base.py:1242: ConvergenceWarning: Liblinear failed to converge, increase the number of iterations.\n",
      "  warnings.warn(\n"
     ]
    },
    {
     "name": "stdout",
     "output_type": "stream",
     "text": [
      "  Train Error: 0.1315, Test Error: 0.1386\n",
      "Testing Linear SVM with C = 0.1\n"
     ]
    },
    {
     "name": "stderr",
     "output_type": "stream",
     "text": [
      "c:\\Users\\syedz\\.conda\\envs\\ML_DS\\lib\\site-packages\\sklearn\\svm\\_classes.py:32: FutureWarning: The default value of `dual` will change from `True` to `'auto'` in 1.5. Set the value of `dual` explicitly to suppress the warning.\n",
      "  warnings.warn(\n",
      "c:\\Users\\syedz\\.conda\\envs\\ML_DS\\lib\\site-packages\\sklearn\\svm\\_base.py:1242: ConvergenceWarning: Liblinear failed to converge, increase the number of iterations.\n",
      "  warnings.warn(\n",
      "c:\\Users\\syedz\\.conda\\envs\\ML_DS\\lib\\site-packages\\sklearn\\svm\\_base.py:1242: ConvergenceWarning: Liblinear failed to converge, increase the number of iterations.\n",
      "  warnings.warn(\n"
     ]
    },
    {
     "name": "stdout",
     "output_type": "stream",
     "text": [
      "  Train Error: 0.1308, Test Error: 0.1345\n",
      "Testing Linear SVM with C = 1.0\n"
     ]
    },
    {
     "name": "stderr",
     "output_type": "stream",
     "text": [
      "c:\\Users\\syedz\\.conda\\envs\\ML_DS\\lib\\site-packages\\sklearn\\svm\\_classes.py:32: FutureWarning: The default value of `dual` will change from `True` to `'auto'` in 1.5. Set the value of `dual` explicitly to suppress the warning.\n",
      "  warnings.warn(\n",
      "c:\\Users\\syedz\\.conda\\envs\\ML_DS\\lib\\site-packages\\sklearn\\svm\\_base.py:1242: ConvergenceWarning: Liblinear failed to converge, increase the number of iterations.\n",
      "  warnings.warn(\n",
      "c:\\Users\\syedz\\.conda\\envs\\ML_DS\\lib\\site-packages\\sklearn\\svm\\_base.py:1242: ConvergenceWarning: Liblinear failed to converge, increase the number of iterations.\n",
      "  warnings.warn(\n"
     ]
    },
    {
     "name": "stdout",
     "output_type": "stream",
     "text": [
      "  Train Error: 0.1481, Test Error: 0.1550\n",
      "Testing Linear SVM with C = 10.0\n"
     ]
    },
    {
     "name": "stderr",
     "output_type": "stream",
     "text": [
      "c:\\Users\\syedz\\.conda\\envs\\ML_DS\\lib\\site-packages\\sklearn\\svm\\_classes.py:32: FutureWarning: The default value of `dual` will change from `True` to `'auto'` in 1.5. Set the value of `dual` explicitly to suppress the warning.\n",
      "  warnings.warn(\n",
      "c:\\Users\\syedz\\.conda\\envs\\ML_DS\\lib\\site-packages\\sklearn\\svm\\_base.py:1242: ConvergenceWarning: Liblinear failed to converge, increase the number of iterations.\n",
      "  warnings.warn(\n",
      "c:\\Users\\syedz\\.conda\\envs\\ML_DS\\lib\\site-packages\\sklearn\\svm\\_base.py:1242: ConvergenceWarning: Liblinear failed to converge, increase the number of iterations.\n",
      "  warnings.warn(\n"
     ]
    },
    {
     "name": "stdout",
     "output_type": "stream",
     "text": [
      "  Train Error: 0.1875, Test Error: 0.1935\n",
      "Testing Linear SVM with C = 100.0\n"
     ]
    },
    {
     "name": "stderr",
     "output_type": "stream",
     "text": [
      "c:\\Users\\syedz\\.conda\\envs\\ML_DS\\lib\\site-packages\\sklearn\\svm\\_classes.py:32: FutureWarning: The default value of `dual` will change from `True` to `'auto'` in 1.5. Set the value of `dual` explicitly to suppress the warning.\n",
      "  warnings.warn(\n"
     ]
    },
    {
     "name": "stdout",
     "output_type": "stream",
     "text": [
      "  Train Error: 0.1061, Test Error: 0.1133\n",
      "\n",
      "============================================================\n",
      "LINEAR SVM SUMMARY:\n",
      "C =   0.01: Train = 0.1315, Test = 0.1386\n",
      "C =   0.10: Train = 0.1308, Test = 0.1345\n",
      "C =   1.00: Train = 0.1481, Test = 0.1550\n",
      "C =  10.00: Train = 0.1875, Test = 0.1935\n",
      "C = 100.00: Train = 0.1061, Test = 0.1133\n",
      "\n",
      "🎯 Best C value: 100.0 (Test Error: 0.1133)\n"
     ]
    },
    {
     "name": "stderr",
     "output_type": "stream",
     "text": [
      "c:\\Users\\syedz\\.conda\\envs\\ML_DS\\lib\\site-packages\\sklearn\\svm\\_base.py:1242: ConvergenceWarning: Liblinear failed to converge, increase the number of iterations.\n",
      "  warnings.warn(\n"
     ]
    }
   ],
   "source": [
    "# MNIST SVM Experiments using Generic Function\n",
    "print(\"MNIST SVM EXPERIMENTS\")\n",
    "print(\"=\" * 60)\n",
    "\n",
    "# Test different C values for Linear SVM\n",
    "C_values = [0.01, 0.1, 1.0, 10.0, 100.0]\n",
    "linear_results = []\n",
    "\n",
    "print(\"\\n1. LINEAR SVM WITH DIFFERENT C VALUES:\")\n",
    "print(\"-\" * 40)\n",
    "for C in C_values:\n",
    "    print(f\"Testing Linear SVM with C = {C}\")\n",
    "    \n",
    "    # Create linear SVM classifier\n",
    "    linear_clf = svm.LinearSVC(C=C, loss='hinge', max_iter=1000)\n",
    "    train_preds, test_preds, train_error, test_error = fit_svm_classifier(linear_clf)\n",
    "    \n",
    "    linear_results.append({\n",
    "        'C': C,\n",
    "        'train_error': train_error,\n",
    "        'test_error': test_error\n",
    "    })\n",
    "    \n",
    "    print(f\"  Train Error: {train_error:.4f}, Test Error: {test_error:.4f}\")\n",
    "\n",
    "print(f\"\\n{'='*60}\")\n",
    "print(\"LINEAR SVM SUMMARY:\")\n",
    "for result in linear_results:\n",
    "    print(f\"C = {result['C']:6.2f}: Train = {result['train_error']:.4f}, Test = {result['test_error']:.4f}\")\n",
    "\n",
    "# Find best C value\n",
    "best_result = min(linear_results, key=lambda x: x['test_error'])\n",
    "print(f\"\\n🎯 Best C value: {best_result['C']} (Test Error: {best_result['test_error']:.4f})\")"
   ]
  },
  {
   "cell_type": "code",
   "execution_count": 8,
   "id": "f315739c",
   "metadata": {},
   "outputs": [
    {
     "name": "stdout",
     "output_type": "stream",
     "text": [
      "\n",
      "2. KERNEL SVM EXPERIMENTS:\n",
      "----------------------------------------\n",
      "Testing Quadratic Kernel SVM with C = 1.0\n",
      "  Train Error: 0.0110, Test Error: 0.0234\n",
      "\n",
      "Testing RBF Kernel SVM with C = 1.0\n",
      "  Train Error: 0.0110, Test Error: 0.0234\n",
      "\n",
      "Testing RBF Kernel SVM with C = 1.0\n",
      "  Train Error: 0.0101, Test Error: 0.0208\n",
      "\n",
      "============================================================\n",
      "KERNEL COMPARISON AT C = 1.0:\n",
      "Linear SVM    - Train: 0.1481, Test: 0.1550\n",
      "Quadratic SVM - Train: 0.0110, Test: 0.0234\n",
      "RBF SVM       - Train: 0.0101, Test: 0.0208\n",
      "\n",
      "🏆 Best kernel: RBF (Test Error: 0.0208)\n",
      "  Train Error: 0.0101, Test Error: 0.0208\n",
      "\n",
      "============================================================\n",
      "KERNEL COMPARISON AT C = 1.0:\n",
      "Linear SVM    - Train: 0.1481, Test: 0.1550\n",
      "Quadratic SVM - Train: 0.0110, Test: 0.0234\n",
      "RBF SVM       - Train: 0.0101, Test: 0.0208\n",
      "\n",
      "🏆 Best kernel: RBF (Test Error: 0.0208)\n"
     ]
    }
   ],
   "source": [
    "# 2. KERNEL SVM EXPERIMENTS\n",
    "print(\"\\n2. KERNEL SVM EXPERIMENTS:\")\n",
    "print(\"-\" * 40)\n",
    "\n",
    "# Quadratic Kernel SVM\n",
    "print(\"Testing Quadratic Kernel SVM with C = 1.0\")\n",
    "quad_clf = svm.SVC(kernel='poly', degree=2, C=1.0, coef0=1.0)\n",
    "quad_train_preds, quad_test_preds, quad_train_error, quad_test_error = fit_svm_classifier(quad_clf)\n",
    "print(f\"  Train Error: {quad_train_error:.4f}, Test Error: {quad_test_error:.4f}\")\n",
    "\n",
    "# RBF Kernel SVM (for comparison)\n",
    "print(\"\\nTesting RBF Kernel SVM with C = 1.0\")\n",
    "rbf_clf = svm.SVC(kernel='rbf', C=1.0, gamma='scale')\n",
    "rbf_train_preds, rbf_test_preds, rbf_train_error, rbf_test_error = fit_svm_classifier(rbf_clf)\n",
    "print(f\"  Train Error: {rbf_train_error:.4f}, Test Error: {rbf_test_error:.4f}\")\n",
    "\n",
    "# Get linear SVM result at C=1.0 for comparison\n",
    "linear_c1_result = [r for r in linear_results if r['C'] == 1.0][0]\n",
    "\n",
    "print(f\"\\n{'='*60}\")\n",
    "print(\"KERNEL COMPARISON AT C = 1.0:\")\n",
    "print(f\"Linear SVM    - Train: {linear_c1_result['train_error']:.4f}, Test: {linear_c1_result['test_error']:.4f}\")\n",
    "print(f\"Quadratic SVM - Train: {quad_train_error:.4f}, Test: {quad_test_error:.4f}\")\n",
    "print(f\"RBF SVM       - Train: {rbf_train_error:.4f}, Test: {rbf_test_error:.4f}\")\n",
    "\n",
    "# Determine best performer\n",
    "results_c1 = [\n",
    "    ('Linear', linear_c1_result['test_error']),\n",
    "    ('Quadratic', quad_test_error),\n",
    "    ('RBF', rbf_test_error)\n",
    "]\n",
    "best_kernel = min(results_c1, key=lambda x: x[1])\n",
    "print(f\"\\n🏆 Best kernel: {best_kernel[0]} (Test Error: {best_kernel[1]:.4f})\")"
   ]
  },
  {
   "cell_type": "code",
   "execution_count": 9,
   "id": "79ae91b5",
   "metadata": {},
   "outputs": [
    {
     "name": "stdout",
     "output_type": "stream",
     "text": [
      "✅ All experiments completed! Results stored in 'results_summary'\n"
     ]
    }
   ],
   "source": [
    "# Results summary for easy reference\n",
    "results_summary = {\n",
    "    'linear_results': linear_results,\n",
    "    'quad_train_error': quad_train_error,\n",
    "    'quad_test_error': quad_test_error,\n",
    "    'rbf_train_error': rbf_train_error,\n",
    "    'rbf_test_error': rbf_test_error\n",
    "}\n",
    "\n",
    "print(\"✅ All experiments completed! Results stored in 'results_summary'\")"
   ]
  }
 ],
 "metadata": {
  "kernelspec": {
   "display_name": "ML_DS",
   "language": "python",
   "name": "ml_ds"
  },
  "language_info": {
   "codemirror_mode": {
    "name": "ipython",
    "version": 3
   },
   "file_extension": ".py",
   "mimetype": "text/x-python",
   "name": "python",
   "nbconvert_exporter": "python",
   "pygments_lexer": "ipython3",
   "version": "3.10.18"
  }
 },
 "nbformat": 4,
 "nbformat_minor": 5
}
